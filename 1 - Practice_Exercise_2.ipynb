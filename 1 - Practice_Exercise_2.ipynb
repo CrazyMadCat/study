{
 "cells": [
  {
   "cell_type": "markdown",
   "metadata": {},
   "source": [
    "1. Ask user to enter a string and check that it is made up only alphabets:"
   ]
  },
  {
   "cell_type": "code",
   "execution_count": null,
   "metadata": {},
   "outputs": [],
   "source": [
    "user_input = input(\"Please enter a string: \")\n",
    "\n",
    "# Check if the string contains only alphabetic characters\n",
    "if user_input.isalpha():\n",
    "    print(\"The string contains only alphabets.\")\n",
    "else:\n",
    "    print(\"The string contains characters other than alphabets.\")\n"
   ]
  },
  {
   "cell_type": "markdown",
   "metadata": {},
   "source": [
    "2. Now, make sure that the string is made up of both alphabets and numbers:\n",
    "\n",
    "TRY using isalnum() function and then entering only alhpabets in the string and see what happens."
   ]
  },
  {
   "cell_type": "code",
   "execution_count": 4,
   "metadata": {},
   "outputs": [
    {
     "name": "stdout",
     "output_type": "stream",
     "text": [
      "The string contains both alphabets and numbers.\n"
     ]
    }
   ],
   "source": [
    "user_input = input(\"Please enter a string: \")\n",
    "\n",
    "# Check if the string contains both alphabets and numbers\n",
    "if user_input.isalnum():\n",
    "    # isalnum() checks if the string consists of alphabets and numbers but does not guarantee both are present\n",
    "    if any(char.isalpha() for char in user_input) and any(char.isdigit() for char in user_input):\n",
    "        print(\"The string contains both alphabets and numbers.\")\n",
    "    else:\n",
    "        print(\"The string contains either only alphabets or only numbers.\")\n",
    "else:\n",
    "    print(\"The string contains characters other than alphabets and numbers.\")\n"
   ]
  },
  {
   "cell_type": "markdown",
   "metadata": {},
   "source": [
    "3. Now, make sure that the string is made up of both alphabets and at least one number:\n"
   ]
  },
  {
   "cell_type": "code",
   "execution_count": 2,
   "metadata": {},
   "outputs": [
    {
     "name": "stdout",
     "output_type": "stream",
     "text": [
      "The string contains both alphabets and at least one number.\n"
     ]
    }
   ],
   "source": [
    "user_input = input(\"Please enter a string: \")\n",
    "\n",
    "# Check if the string contains both alphabets and at least one number\n",
    "if any(char.isalpha() for char in user_input) and any(char.isdigit() for char in user_input):\n",
    "    print(\"The string contains both alphabets and at least one number.\")\n",
    "else:\n",
    "    print(\"The string must contain both alphabets and at least one number.\")\n"
   ]
  },
  {
   "cell_type": "markdown",
   "metadata": {},
   "source": [
    "4. Now, make sure that the string is made up of both alphabets, at least one number, and at least one special character:"
   ]
  },
  {
   "cell_type": "code",
   "execution_count": null,
   "metadata": {},
   "outputs": [],
   "source": [
    "import string\n",
    "\n",
    "user_input = input(\"Please enter a string: \")\n",
    "\n",
    "# Check if the string contains alphabets, at least one number, and at least one special character\n",
    "if any(char.isalpha() for char in user_input) and any(char.isdigit() for char in user_input) and any(char in string.punctuation for char in user_input):\n",
    "    print(\"The string contains alphabets, at least one number, and at least one special character.\")\n",
    "else:\n",
    "    print(\"The string must contain alphabets, at least one number, and at least one special character.\")\n"
   ]
  },
  {
   "cell_type": "markdown",
   "metadata": {},
   "source": [
    "5. Now, modify the above code so that if the user enters an invalid string, the program should ask the user to enter another string again, and keep asking until a valid string has been entered."
   ]
  },
  {
   "cell_type": "code",
   "execution_count": null,
   "metadata": {},
   "outputs": [],
   "source": [
    "import string\n",
    "\n",
    "while True:\n",
    "\n",
    "    user_input = input(\"Please enter a string: \")\n",
    "\n",
    "    # Check if the string contains alphabets, at least one number, and at least one special character\n",
    "    if any(char.isalpha() for char in user_input) and any(char.isdigit() for char in user_input) and any(char in string.punctuation for char in user_input):\n",
    "        print(\"The string contains alphabets, at least one number, and at least one special character.\")\n",
    "        break  # Exit the loop once a valid string has been entered\n",
    "    else:\n",
    "        print(\"Invalid string! The string must contain alphabets, at least one number, and at least one special character. Please try again.\")\n"
   ]
  }
 ],
 "metadata": {
  "kernelspec": {
   "display_name": "Python 3",
   "language": "python",
   "name": "python3"
  },
  "language_info": {
   "codemirror_mode": {
    "name": "ipython",
    "version": 3
   },
   "file_extension": ".py",
   "mimetype": "text/x-python",
   "name": "python",
   "nbconvert_exporter": "python",
   "pygments_lexer": "ipython3",
   "version": "3.11.9"
  }
 },
 "nbformat": 4,
 "nbformat_minor": 2
}
